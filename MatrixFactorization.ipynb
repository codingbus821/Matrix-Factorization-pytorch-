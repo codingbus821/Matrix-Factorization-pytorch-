{
 "cells": [
  {
   "cell_type": "code",
   "execution_count": 2,
   "metadata": {},
   "outputs": [
    {
     "name": "stdout",
     "output_type": "stream",
     "text": [
      "epoch: 0, cost: 102.359322\n",
      "epoch: 5, cost: 10.870509\n",
      "epoch: 10, cost: 3.986809\n",
      "epoch: 15, cost: 2.118483\n",
      "epoch: 20, cost: 1.189271\n",
      "epoch: 25, cost: 0.768679\n",
      "epoch: 30, cost: 0.566767\n",
      "epoch: 35, cost: 0.464351\n",
      "epoch: 40, cost: 0.411508\n",
      "epoch: 45, cost: 0.383403\n",
      "epoch: 50, cost: 0.366695\n"
     ]
    },
    {
     "data": {
      "image/png": "[encoded data removed]",
      "text/plain": [
       "<Figure size 432x288 with 1 Axes>"
      ]
     },
     "metadata": {
      "needs_background": "light"
     },
     "output_type": "display_data"
    }
   ],
   "source": [
    "import torch\n",
    "import pandas as pd\n",
    "import torch.nn.functional as F\n",
    "import matplotlib.pyplot as plt\n",
    "\n",
    "# pandas : Python Data Analysis Library\n",
    "# read_csv(filepath, separate:구분자, names:column에 이름 부여)\n",
    "train = pd.read_csv(\"./ml-100k/ua.base\", sep=\"\\t\", names=['user', 'movie', 'rating', 'timestamp'])\n",
    "test = pd.read_csv(\"./ml-100k/ua.test\", sep=\"\\t\", names=['user', 'movie', 'rating', 'timestamp'])\n",
    "\n",
    "items = torch.LongTensor(train['movie'])\n",
    "users = torch.LongTensor(train['user'])\n",
    "ratings = torch.LongTensor(train['rating'])\n",
    "items_test = torch.LongTensor(test['movie'])\n",
    "users_test = torch.LongTensor(test['user'])\n",
    "ratings_test = torch.LongTensor(test['rating'])\n",
    "\n",
    "rank = 100 # factor의 개수\n",
    "\n",
    "numItems = items.max() # 1682\n",
    "numUsers = users.max() # 943\n",
    "\n",
    "P = torch.randn(numItems + 1, rank, requires_grad=True) # index가 0부터 시작해서 +1 해줌\n",
    "Q = torch.randn(numUsers + 1, rank, requires_grad=True)\n",
    "\n",
    "lambda1 = 0.0001\n",
    "\n",
    "bias_item = torch.randn(numItems + 1, requires_grad=True) # index가 0부터 시작해서 +1 해줌\n",
    "bias_user = torch.randn(numUsers + 1, requires_grad=True)\n",
    "\n",
    "mean = (ratings.sum() / len(ratings)).item() #.item()은 값만 가져옴\n",
    "\n",
    "# learning algorithm\n",
    "optimizer = torch.optim.Adam([P, Q, bias_item, bias_user], lr=0.1)\n",
    "\n",
    "X = []\n",
    "Y = []\n",
    "Y_test = []\n",
    "\n",
    "for epoch in range(51):\n",
    "    # 가설 = 예상 점수\n",
    "    hypothesis = torch.sum(P[items] * Q[users], dim=1) + mean + bias_item[items] + bias_user[users]\n",
    "    \n",
    "    # 오차 계산\n",
    "    cost = F.mse_loss(hypothesis.to(torch.float32), ratings.to(torch.float32))\n",
    "    # loss function\n",
    "    loss = cost + lambda1 * (torch.sum(P ** 2) + torch.sum(Q ** 2) + torch.sum(bias_item ** 2) + torch.sum(bias_user ** 2))\n",
    "    \n",
    "    optimizer.zero_grad() # gradients 값들이 계속 누적 되기 때문에 초기화\n",
    "    loss.backward() # 기울기 계산\n",
    "    optimizer.step() # 매개변수 조정\n",
    "    \n",
    "    # 기울기 계산 하지 않음\n",
    "    with torch.no_grad():\n",
    "        hypo_test = torch.sum(P[items_test] * Q[users_test], dim=1) + mean + bias_item[items_test] + bias_user[users_test]\n",
    "        cost_test = F.mse_loss(hypo_test.to(torch.float32), ratings_test.to(torch.float32))\n",
    "    \n",
    "        X.append(epoch)\n",
    "        Y.append(cost)\n",
    "        Y_test.append(cost_test)\n",
    "    \n",
    "    if epoch % 5 == 0:\n",
    "        print(\"epoch: {}, cost: {:.6f}\" .format(epoch, cost.item()))\n",
    "        \n",
    "plt.ylabel(\"MSE\")\n",
    "plt.xlabel(\"Epoch\")\n",
    "plt.plot(X,Y, c=\"blue\", label=\"Training MSE\")\n",
    "plt.plot(X,Y_test, c=\"red\", label=\"Test MSE\")\n",
    "plt.legend()\n",
    "plt.show()\n"
   ]
  },
  {
   "cell_type": "code",
   "execution_count": null,
   "metadata": {},
   "outputs": [],
   "source": []
  }
 ],
 "metadata": {
  "kernelspec": {
   "display_name": "Python 3",
   "language": "python",
   "name": "python3"
  },
  "language_info": {
   "codemirror_mode": {
    "name": "ipython",
    "version": 3
   },
   "file_extension": ".py",
   "mimetype": "text/x-python",
   "name": "python",
   "nbconvert_exporter": "python",
   "pygments_lexer": "ipython3",
   "version": "3.8.3"
  }
 },
 "nbformat": 4,
 "nbformat_minor": 4
}
